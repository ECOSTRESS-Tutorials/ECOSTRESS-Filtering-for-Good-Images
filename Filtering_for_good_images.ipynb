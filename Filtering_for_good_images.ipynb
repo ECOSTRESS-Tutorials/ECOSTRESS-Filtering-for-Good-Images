{
 "cells": [
  {
   "cell_type": "markdown",
   "metadata": {},
   "source": [
    "# Filtering for Good Images\n",
    "### ECOSTRESS Tutorials\n",
    "###### This code is best suited for use when you have a folder of files that you would like to be automatically filtered to get just the good images. In this case, the good images are ones that have been georeferenced, have minimal cloud cover, and have mostly good quality (not null) pixels. In addition to the files you want to filter, the input directory should also have the images' associated QC files and a statistics CSV. This can all be downloaded from the AppEEARS website. "
   ]
  },
  {
   "cell_type": "markdown",
   "metadata": {},
   "source": [
    "### Import the Necessary Libraries"
   ]
  },
  {
   "cell_type": "code",
   "execution_count": 11,
   "metadata": {},
   "outputs": [],
   "source": [
    "import os\n",
    "from os import makedirs\n",
    "import pandas as pd\n",
    "import rasterio\n",
    "import numpy as np"
   ]
  },
  {
   "cell_type": "markdown",
   "metadata": {},
   "source": [
    "### Set the Directories"
   ]
  },
  {
   "cell_type": "code",
   "execution_count": 12,
   "metadata": {},
   "outputs": [],
   "source": [
    "#Replace this with the path to the folder where the downloaded files are kept, wrapped in quotes\n",
    "input_directory = r\"Replace_this_text_with_folder_path\"\n",
    "    #Folder should include files of your layer of interest (LST, Emissivity, etc.), the associated QC files,\n",
    "    #and one statistics CSV file that is associated with this download\n",
    "#Replace this with the path to the folder where you want the outputs to go, wrapped in quotes\n",
    "output_directory = r\"Replace_this_text_with_folder_path\"\n",
    "#This line makes sure that the output directory exists\n",
    "makedirs(input_directory, exist_ok=True)\n",
    "\n",
    "#The threshold at which you want to decide to accept a ECOSTRESS product based on the quality of pixels.\n",
    "    #Ex: A threshold of 0.75 means that at least 75% of the pixels have to be good quality.\n",
    "    #You can change this if you want. A higher number means more strict quality requirements. \n",
    "thresh = 0.75 #has to be between 0 and 1\n"
   ]
  },
  {
   "cell_type": "markdown",
   "metadata": {},
   "source": [
    "### Create Lists of all the Different File Types"
   ]
  },
  {
   "cell_type": "code",
   "execution_count": 13,
   "metadata": {},
   "outputs": [],
   "source": [
    "scene_list = [] #This will contain all the paths for your layer of interest (LST, Emissivity, etc.), which we will call scenes\n",
    "QC_list = [] #This will contain the paths to the QC files associated with your layer of interest\n",
    "csv_count = 0 #Counts the number of CSV files in your directory, starting at 0\n",
    "\n",
    "#Checks if the input directory is empty, and if it is, it will give you an error\n",
    "if len(os.listdir(input_directory)) == 0  : \n",
    "    raise(ValueError(\"The directory you typed is empty, please check it.\"))\n",
    "\n",
    "#loop through each file in the input directory\n",
    "for file in os.listdir(input_directory):\n",
    "    #Get each file's path by joining the input directory with the file name\n",
    "    file_path = os.path.join(input_directory,file)\n",
    "    #Check if the file ends in .csv ...\n",
    "    if file.endswith('csv'): \n",
    "        #If it does, increase the CSV count list by 1\n",
    "        csv_count +=1\n",
    "        #read the CSV into the variable (pandas DataFrame) called eco_stats\n",
    "        eco_stats = pd.read_csv(file_path)\n",
    "    #Check if the file ends in .tif and contains QC\n",
    "    elif file.endswith('.tif') and file.__contains__('QC'):\n",
    "        #If it does, add it to the list of QC files\n",
    "        QC_list.append(file)\n",
    "    #Check all other files to see if they end in .tif (these are the layers of interest or scenes)\n",
    "    elif file.endswith('.tif'):\n",
    "        #If they do, add it to the scene list \n",
    "        scene_list.append(file)\n",
    "\n",
    "#Creates a set of warnings that will appear if any of your files are missing from the directory\n",
    "#Checks if there is exactly one CSV\n",
    "if csv_count != 1:\n",
    "    raise(ValueError(\"The directory contains an abnormal number of statistics CSVs, there should only be exactly one.\"))      \n",
    "#Checks if there are QC files\n",
    "if not QC_list: \n",
    "    raise(ValueError(\"The directory doesn't contain any QC files, please check it.\"))\n",
    "#Checks if there are scenes\n",
    "if not scene_list: \n",
    "    raise(ValueError(\"The directory doesn't contain any scenes, please check it.\"))"
   ]
  },
  {
   "cell_type": "markdown",
   "metadata": {},
   "source": [
    "### Process QC (Quality Control) Files into QF (Quality Flag) Files"
   ]
  },
  {
   "cell_type": "code",
   "execution_count": 14,
   "metadata": {},
   "outputs": [],
   "source": [
    "# QC files processing to render them easily readable by an user and for validity by python\n",
    "#Creates a path for a directory called QF in the output directory\n",
    "QF_directory = os.path.join(output_directory,'QF')\n",
    "#Checks if this directory exists...\n",
    "if not os.path.exists(QF_directory):\n",
    "    #... and if it doesn't, create it\n",
    "    os.mkdir(QF_directory)\n",
    "\n",
    "#Loop through each file in the QC list\n",
    "for qc in QC_list :\n",
    "    #Get the file's path by joining the input directory with the QC file name\n",
    "    qc_file = os.path.join(input_directory,qc)\n",
    "    #Opens the QC_file\n",
    "    with rasterio.open(qc_file,'r') as f_qc:\n",
    "        qc_img = f_qc.read((1)) #Read the first band of the QC file. They are coded in 16 bits\n",
    "        qc_img[qc_img==-99999] = -1  #Nodata values are read as -99999, we change it to -1 so that the last two bits appear as 11 (which means pixel not produced) and will be masked out in the end\n",
    "        qc_img_2 = qc_img & 0b11 #Select only the last two bits that tell us what the quality of the pixel is\n",
    "        out_meta = f_qc.meta.copy() #Copies the metadata from the original QC file\n",
    "    \n",
    "    #Creates the QF file path by joining the QF directory with the file name, but change QC to QF in the file name\n",
    "    file_qf = os.path.join(QF_directory,qc.replace('QC','QF'))\n",
    "    #Opens the new QF file and adds the copied metadata\n",
    "    with rasterio.open(file_qf,'w',**out_meta) as dst: \n",
    "        #Writes the data into the QF new file\n",
    "        dst.write(qc_img_2,1)"
   ]
  },
  {
   "cell_type": "markdown",
   "metadata": {},
   "source": [
    "### Filters for Good Images\n",
    "#### If bad, filters them into separate categories depending on why they are bad. The categories are bad georeference. cloudy, or no data. "
   ]
  },
  {
   "cell_type": "code",
   "execution_count": 15,
   "metadata": {},
   "outputs": [],
   "source": [
    "#Creates a function called copy_file that we will use later to copy files from the input folder into the correct output folder\n",
    "def copy_file(source, destination):\n",
    "    with open(source, 'rb') as src, open(destination, 'wb') as dst:\n",
    "        dst.write(src.read())\n",
    "\n",
    "###Checking for bad georeferencing###\n",
    "#loops through each file in the scene list\n",
    "for scene in scene_list : \n",
    "    #Find the row in the eco_stats CSV where the file name column matches the scene name\n",
    "    matching_scene = eco_stats.loc[eco_stats['File Name']==scene[:-4].replace('.','_')]\n",
    "    #Gets the value from the coulmn titled \"Orbit Correction Preformed\" for that row\n",
    "    orbit_status = matching_scene['Orbit Correction Performed'].item() \n",
    "    #If the orbit correction hasn't been performed ...\n",
    "    if not orbit_status == 1:\n",
    "        #... discard the file into a bag georeference folder\n",
    "        bad_geo_dir = os.path.join(output_directory,'Bad georeference')\n",
    "        #If the directory for the bad georeferenced images does not exist ...\n",
    "        if not os.path.exists(bad_geo_dir):\n",
    "            #... create it\n",
    "            os.mkdir(bad_geo_dir)\n",
    "        #Gets the path to the original file from the input directory\n",
    "        source_path = os.path.join(input_directory,scene)\n",
    "        #Creates a path for the file in the bag georeferenced directory\n",
    "        dst_path = os.path.join(bad_geo_dir,scene)\n",
    "        #Copies the file from the input directory to the bad georeferenced directory\n",
    "        copy_file(source_path, dst_path)\n",
    "    \n",
    "    #If the orbit correction has been preformed ...\n",
    "    else:\n",
    "        #... get the dataset value from the matching row in the CSV\n",
    "        scene_type = matching_scene['Dataset'].item()\n",
    "        #Creates a path for the masked file by replacing the last three characters of the scene type with QF_\n",
    "        mask_file_for_scene =os.path.join(QF_directory,scene.replace(scene_type[-3:]+'_','QF_'))        \n",
    "        \n",
    "        #Opens the masked file with rasterio\n",
    "        with rasterio.open(mask_file_for_scene,'r') as mask:\n",
    "            #Reads the first band of the file\n",
    "            mask_array = mask.read(1)\n",
    "            #Stores the size of the first band into the variable mask sz\n",
    "            mask_size = mask_array.size\n",
    "       \n",
    "###Checking for other qulaity flags (clouds and no data)###\n",
    "        #Checks if the proportion of the good quality pixels is greater than the threashold \n",
    "            #If it is, we accept it as good. If not, we look into why  \n",
    "        if np.count_nonzero(mask_array==0) + np.count_nonzero(mask_array==1)>thresh*mask_size:\n",
    "            #Creates a path to the good folder in the output directory\n",
    "            good_dir = os.path.join(output_directory, 'Good')\n",
    "            #If the good directory does not exist ...\n",
    "            if not os.path.exists(good_dir):\n",
    "                #... create it\n",
    "                os.makedirs(good_dir)\n",
    "            #Gets the path to the original file from the input directory\n",
    "            source_path = os.path.join(input_directory, scene)\n",
    "            #Creates a path for the file in the good directory\n",
    "            dst_path = os.path.join(good_dir, scene)\n",
    "            #Copies the file from the input directory to the good directory\n",
    "            copy_file(source_path, dst_path)\n",
    "        else:\n",
    "            #Checks if there are more cloudy pixels than no data pixels. If the main reason for the image to be disregarded is clouds, we move it into the Cloudy folder\n",
    "            if np.count_nonzero(mask_array==2) > np.count_nonzero(mask_array==3):\n",
    "                #Creates a path to the cloudy folder in the output directory\n",
    "                cloudy_dir = os.path.join(output_directory,'Cloudy')\n",
    "                #If the cloudy directory does not exist ...\n",
    "                if not os.path.exists(cloudy_dir) :\n",
    "                    #... create it\n",
    "                    os.mkdir(cloudy_dir)\n",
    "                #Gets the path to the original file from the input directory\n",
    "                source_path = os.path.join(input_directory,scene)\n",
    "                #Creates a path for the file in the cloudy directory\n",
    "                dst_path = os.path.join(cloudy_dir,scene)\n",
    "                #Copies the file from the input directory to the cloudy directory\n",
    "                copy_file(source_path, dst_path)\n",
    "\n",
    "            #If there are more no data pixels, move it into the no data output folder\n",
    "            else : \n",
    "                #Creates a path to the no data in the output directory\n",
    "                nodata_dir = os.path.join(output_directory,'Nodata')\n",
    "                #If the no data directory does not exist ...\n",
    "                if not os.path.exists(nodata_dir):\n",
    "                    #... create it\n",
    "                    os.mkdir(nodata_dir)\n",
    "                #Gets the path to the original file from the input directory\n",
    "                source_path = os.path.join(input_directory,scene)\n",
    "                #Creates a path for the file in the no data directory\n",
    "                dst_path = os.path.join(nodata_dir,scene)\n",
    "                #Copies the file from the input directory to the no data directory\n",
    "                copy_file(source_path, dst_path)"
   ]
  },
  {
   "cell_type": "code",
   "execution_count": null,
   "metadata": {},
   "outputs": [],
   "source": []
  }
 ],
 "metadata": {
  "kernelspec": {
   "display_name": "jvsrp_main",
   "language": "python",
   "name": "python3"
  },
  "language_info": {
   "codemirror_mode": {
    "name": "ipython",
    "version": 3
   },
   "file_extension": ".py",
   "mimetype": "text/x-python",
   "name": "python",
   "nbconvert_exporter": "python",
   "pygments_lexer": "ipython3",
   "version": "3.11.9"
  }
 },
 "nbformat": 4,
 "nbformat_minor": 2
}
